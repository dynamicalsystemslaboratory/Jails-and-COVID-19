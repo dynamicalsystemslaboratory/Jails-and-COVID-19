{
 "cells": [
  {
   "cell_type": "code",
   "execution_count": 1,
   "id": "4a4683a7-06ae-4c37-a18d-0e4895ac0a3f",
   "metadata": {},
   "outputs": [],
   "source": [
    "from sympy import symbols, diff, simplify, expand, solve, Eq, pprint, lambdify, ccode, latex, Piecewise\n",
    "from IPython.display import display, Math\n",
    "import numpy as np\n",
    "from scipy.integrate import solve_ivp, solve_bvp\n",
    "import matplotlib.pyplot as plt\n",
    "from scipy.integrate import simpson\n",
    "import pickle"
   ]
  },
  {
   "cell_type": "code",
   "execution_count": 2,
   "id": "f1af8138-6319-414b-bc0d-3f9fc1bd3d93",
   "metadata": {},
   "outputs": [],
   "source": [
    "Sc, Sj, Ic, Ij, Rc, Rj = symbols(\"Sc, Sj, Ic, Ij, Rc, Rj\")\n",
    "betac, betaj, gamma, k, Lcj, Ljc, Lcj0, Ljc0 = symbols(\"betac, betaj, gamma, k, Lcj, Ljc, Lcj0, Ljc0\")\n",
    "\n",
    "lamda_Sc, lamda_Ic, lamda_Rc =  symbols(\"lamdaSc, lamdaIc, lamdaRc\")\n",
    "lamda_Sj, lamda_Ij, lamda_Rj =  symbols(\"lamdaSj, lamdaIj, lamdaRj\")\n",
    "\n",
    "Nc = Sc + Ic + Rc\n",
    "Nj = Sj + Ij + Rj\n",
    "\n",
    "Sc_dot = (Ljc*Sj - Lcj*Sc) - betac*Sc*Ic/Nc \n",
    "Ic_dot = (Ljc*Ij - Lcj*Ic) + betac*Sc*Ic/Nc - gamma*Ic\n",
    "Rc_dot = (Ljc*Rj - Lcj*Rc) + gamma*Ic\n",
    "\n",
    "Sj_dot = (Lcj*Sc - Ljc*Sj) - betaj*Sj*Ij/Nj \n",
    "Ij_dot = (Lcj*Ic - Ljc*Ij) + betaj*Sj*Ij/Nj - gamma*Ij\n",
    "Rj_dot = (Lcj*Rc - Ljc*Rj) + gamma*Ij\n",
    "\n",
    "\n",
    "ai, au = symbols(\"\\\\alpha_i \\\\alpha_u\")\n",
    "ai = 20\n",
    "au = 1\n",
    "\n",
    "L = ai*(Ic+Ij)**2 + au*(((Ljc-Ljc0)/Ljc0)**2+((Lcj-Lcj0)/Lcj0)**2)\n",
    "\n",
    "H = lamda_Sc*Sc_dot  + lamda_Ic*Ic_dot + lamda_Rc*Rc_dot + lamda_Sj*Sj_dot + lamda_Ij*Ij_dot + lamda_Rj*Rj_dot + L\n",
    "\n",
    "\n",
    "lamda_Sc_dot = -diff(H, Sc)\n",
    "lamda_Ic_dot = -diff(H, Ic)\n",
    "lamda_Rc_dot = -diff(H, Rc)\n",
    "lamda_Sj_dot = -diff(H, Sj)\n",
    "lamda_Ij_dot = -diff(H, Ij)\n",
    "lamda_Rj_dot = -diff(H, Rj)\n",
    "\n",
    "Ljc_opt = solve(Eq(diff(H, Ljc), 0), Ljc)[0]\n",
    "Lcj_opt = solve(Eq(diff(H, Lcj), 0), Lcj)[0]"
   ]
  },
  {
   "cell_type": "code",
   "execution_count": 3,
   "id": "c04125ad-39f8-49ab-bedf-2971a1ac86f6",
   "metadata": {},
   "outputs": [
    {
     "data": {
      "text/latex": [
       "$\\displaystyle \\frac{2}{Ljc_{0}^{2}}$"
      ],
      "text/plain": [
       "2/Ljc0**2"
      ]
     },
     "metadata": {},
     "output_type": "display_data"
    },
    {
     "data": {
      "text/latex": [
       "$\\displaystyle \\frac{2}{Lcj_{0}^{2}}$"
      ],
      "text/plain": [
       "2/Lcj0**2"
      ]
     },
     "metadata": {},
     "output_type": "display_data"
    }
   ],
   "source": [
    "display(diff(H, Ljc, 2))\n",
    "display(diff(H, Lcj, 2))"
   ]
  },
  {
   "cell_type": "code",
   "execution_count": 4,
   "id": "cd863eed-a451-433a-bdf9-56e868ff4607",
   "metadata": {},
   "outputs": [],
   "source": [
    "Nj0 = 0.2\n",
    "betac_val, betaj_val, gamma_val, Ljc0_val = 0.2625, 1, 1/14, 1\n",
    "Lcj0_val =  Ljc0_val*Nj0/(1-Nj0)\n",
    "\n",
    "states_opt = [Sc, Ic, Rc, Sj, Ij, Rj, lamda_Sc, lamda_Ic, lamda_Rc, lamda_Sj, lamda_Ij, lamda_Rj]\n",
    "states_free = [Sc, Ic, Rc, Sj, Ij, Rj]\n",
    "\n",
    "Param_dict_opt = { \n",
    "    betac: betac_val,\n",
    "    betaj: betaj_val,\n",
    "    gamma: gamma_val,\n",
    "    Lcj: Lcj_opt,\n",
    "    Ljc: Ljc_opt,\n",
    "    Lcj0: Lcj0_val,\n",
    "    Ljc0: Ljc0_val}\n",
    "\n",
    "\n",
    "Sc_dot_eval_opt = Sc_dot.subs(Param_dict_opt)\n",
    "Ic_dot_eval_opt = Ic_dot.subs(Param_dict_opt)\n",
    "Rc_dot_eval_opt = Rc_dot.subs(Param_dict_opt)\n",
    "Sj_dot_eval_opt = Sj_dot.subs(Param_dict_opt)\n",
    "Ij_dot_eval_opt = Ij_dot.subs(Param_dict_opt)\n",
    "Rj_dot_eval_opt = Rj_dot.subs(Param_dict_opt)\n",
    "\n",
    "lamda_Sc_dot_eval_opt = lamda_Sc_dot.subs(Param_dict_opt)\n",
    "lamda_Ic_dot_eval_opt = lamda_Ic_dot.subs(Param_dict_opt)\n",
    "lamda_Rc_dot_eval_opt = lamda_Rc_dot.subs(Param_dict_opt)\n",
    "lamda_Sj_dot_eval_opt = lamda_Sj_dot.subs(Param_dict_opt)\n",
    "lamda_Ij_dot_eval_opt = lamda_Ij_dot.subs(Param_dict_opt)\n",
    "lamda_Rj_dot_eval_opt = lamda_Rj_dot.subs(Param_dict_opt)\n",
    "\n",
    "Sc_dot_func_opt = lambdify(states_opt, Sc_dot_eval_opt, modules  = 'numpy')\n",
    "Ic_dot_func_opt = lambdify(states_opt, Ic_dot_eval_opt, modules  = 'numpy')\n",
    "Rc_dot_func_opt = lambdify(states_opt, Rc_dot_eval_opt, modules  = 'numpy')\n",
    "Sj_dot_func_opt = lambdify(states_opt, Sj_dot_eval_opt, modules  = 'numpy')\n",
    "Ij_dot_func_opt = lambdify(states_opt, Ij_dot_eval_opt, modules  = 'numpy')\n",
    "Rj_dot_func_opt = lambdify(states_opt, Rj_dot_eval_opt, modules  = 'numpy')\n",
    "\n",
    "lamda_Sc_dot_func_opt = lambdify(states_opt, lamda_Sc_dot_eval_opt, modules  = 'numpy')\n",
    "lamda_Ic_dot_func_opt = lambdify(states_opt, lamda_Ic_dot_eval_opt, modules  = 'numpy')\n",
    "lamda_Rc_dot_func_opt = lambdify(states_opt, lamda_Rc_dot_eval_opt, modules  = 'numpy')\n",
    "lamda_Sj_dot_func_opt = lambdify(states_opt, lamda_Sj_dot_eval_opt, modules  = 'numpy')\n",
    "lamda_Ij_dot_func_opt = lambdify(states_opt, lamda_Ij_dot_eval_opt, modules  = 'numpy')\n",
    "lamda_Rj_dot_func_opt = lambdify(states_opt, lamda_Rj_dot_eval_opt, modules  = 'numpy')\n",
    "\n",
    "Param_dict_free = { \n",
    "    betac: betac_val,\n",
    "    betaj: betaj_val,\n",
    "    gamma: gamma_val,\n",
    "    Lcj: Lcj0,\n",
    "    Ljc: Ljc0,\n",
    "    Lcj0: Lcj0_val,\n",
    "    Ljc0: Ljc0_val}\n",
    "\n",
    "Sc_dot_eval_free = Sc_dot.subs(Param_dict_free)\n",
    "Ic_dot_eval_free = Ic_dot.subs(Param_dict_free)\n",
    "Rc_dot_eval_free = Rc_dot.subs(Param_dict_free)\n",
    "Sj_dot_eval_free = Sj_dot.subs(Param_dict_free)\n",
    "Ij_dot_eval_free = Ij_dot.subs(Param_dict_free)\n",
    "Rj_dot_eval_free = Rj_dot.subs(Param_dict_free)\n",
    "\n",
    "\n",
    "Sc_dot_func_free = lambdify(states_free, Sc_dot_eval_free, modules  = 'numpy')\n",
    "Ic_dot_func_free = lambdify(states_free, Ic_dot_eval_free, modules  = 'numpy')\n",
    "Rc_dot_func_free = lambdify(states_free, Rc_dot_eval_free, modules  = 'numpy')\n",
    "Sj_dot_func_free = lambdify(states_free, Sj_dot_eval_free, modules  = 'numpy')\n",
    "Ij_dot_func_free = lambdify(states_free, Ij_dot_eval_free, modules  = 'numpy')\n",
    "Rj_dot_func_free = lambdify(states_free, Rj_dot_eval_free, modules  = 'numpy')"
   ]
  },
  {
   "cell_type": "code",
   "execution_count": 5,
   "id": "76026058-c6b1-4382-a1ee-a1e5933e7105",
   "metadata": {},
   "outputs": [],
   "source": [
    "def SIS_opt(t, X):\n",
    "    args = [X[i, :] for i in range(X.shape[0])]  # This unpacks each state variable as a 1D array\n",
    "    return np.array([\n",
    "        Sc_dot_func_opt(*args),\n",
    "        Ic_dot_func_opt(*args),\n",
    "        Rc_dot_func_opt(*args),\n",
    "        Sj_dot_func_opt(*args),\n",
    "        Ij_dot_func_opt(*args),\n",
    "        Rj_dot_func_opt(*args),\n",
    "        lamda_Sc_dot_func_opt(*args),\n",
    "        lamda_Ic_dot_func_opt(*args),\n",
    "        lamda_Rc_dot_func_opt(*args),\n",
    "        lamda_Sj_dot_func_opt(*args),\n",
    "        lamda_Ij_dot_func_opt(*args),\n",
    "        lamda_Rj_dot_func_opt(*args),\n",
    "    ])\n",
    "def SIS_free(t, X):\n",
    "    return np.array([\n",
    "        Sc_dot_func_free(*X),\n",
    "        Ic_dot_func_free(*X),\n",
    "        Rc_dot_func_free(*X),\n",
    "        Sj_dot_func_free(*X),\n",
    "        Ij_dot_func_free(*X),\n",
    "        Rj_dot_func_free(*X),\n",
    "    ])"
   ]
  },
  {
   "cell_type": "code",
   "execution_count": 6,
   "id": "d065d13c-d773-45bf-99d9-76a8dcf71082",
   "metadata": {},
   "outputs": [],
   "source": [
    "def boundary_conditions(Xa, Xb):\n",
    "    Sc0, Ic0, Rc0, Sj0, Ij0, Rj0 = X0\n",
    "    ###a is the initial condition and b is the terminal condition: the index is the state\n",
    "    return [\n",
    "        Xa[0] - Sc0,\n",
    "        Xa[1] - Ic0,\n",
    "        Xa[2] - Rc0,\n",
    "        Xa[3] - Sj0,\n",
    "        Xa[4] - Ij0,\n",
    "        Xa[5] - Rj0,\n",
    "        Xb[6],\n",
    "        Xb[7],\n",
    "        Xb[8],\n",
    "        Xb[9],\n",
    "        Xb[10],\n",
    "        Xb[11]]"
   ]
  },
  {
   "cell_type": "code",
   "execution_count": 7,
   "id": "86c7c563-d566-45ec-913e-d8adbac83c52",
   "metadata": {},
   "outputs": [
    {
     "name": "stdout",
     "output_type": "stream",
     "text": [
      "1.0\n"
     ]
    }
   ],
   "source": [
    "epsi = 1e-5\n",
    "t = np.linspace(0.0, 200, 500, dtype=np.float64)\n",
    "X0 = np.array([1-Nj0-epsi, epsi, 0, Nj0-epsi, epsi, 0])\n",
    "print(np.sum(X0))\n",
    "\n",
    "\n",
    "sol_free = solve_ivp(SIS_free, [t[0], t[-1]], X0, t_eval = t)\n",
    "X_init = 0.6*np.ones((12, t.size))  \n",
    "X_init[[0,1,2,3,4,5],:] = sol_free.y\n",
    "sol_opt = solve_bvp(SIS_opt, boundary_conditions, t, X_init, tol=1e-9, max_nodes=10000, verbose=0)\n",
    "\n",
    "t = sol_opt.x\n",
    "sol_free = solve_ivp(SIS_free, [t[0], t[-1]], X0, t_eval = t)\n",
    "\n",
    "\n",
    "Ljc_opt_func = lambdify(states_opt, Ljc_opt.subs(Param_dict_opt), modules  = 'numpy')\n",
    "Lcj_opt_func = lambdify(states_opt, Lcj_opt.subs(Param_dict_opt), modules  = 'numpy')\n",
    "L_func = lambdify(states_opt, L.subs(Param_dict_opt), modules  = 'numpy')\n",
    "\n",
    "L_t = L_func(*sol_opt.y)\n",
    "L_jc_t_n = ((Ljc_opt_func(*sol_opt.y)-Ljc0_val)/Ljc0_val)**2\n",
    "L_cj_t_n = ((Lcj_opt_func(*sol_opt.y)-Lcj0_val)/Lcj0_val)**2\n",
    "L_jc_t = Ljc_opt_func(*sol_opt.y)\n",
    "L_cj_t = Lcj_opt_func(*sol_opt.y)\n",
    "\n",
    "Nc_t = np.sum(sol_opt.y[[0,1,2],:], axis = 0)\n",
    "Nj_t = np.sum(sol_opt.y[[3,4,5],:], axis = 0)"
   ]
  },
  {
   "cell_type": "code",
   "execution_count": 8,
   "id": "7894395f-2a86-48ea-b146-359f37bb45d8",
   "metadata": {},
   "outputs": [
    {
     "data": {
      "text/plain": [
       "True"
      ]
     },
     "execution_count": 8,
     "metadata": {},
     "output_type": "execute_result"
    }
   ],
   "source": [
    "sol_opt.success"
   ]
  },
  {
   "cell_type": "code",
   "execution_count": 9,
   "id": "95a50971-ca5a-41f0-8286-35d0018dbab0",
   "metadata": {},
   "outputs": [
    {
     "data": {
      "text/plain": [
       "np.int64(0)"
      ]
     },
     "execution_count": 9,
     "metadata": {},
     "output_type": "execute_result"
    }
   ],
   "source": [
    "np.sum(L_cj_t>Lcj0_val)"
   ]
  },
  {
   "cell_type": "code",
   "execution_count": 10,
   "id": "eb9a4e6e-2643-428e-b050-6163036b4558",
   "metadata": {},
   "outputs": [
    {
     "data": {
      "text/plain": [
       "np.int64(0)"
      ]
     },
     "execution_count": 10,
     "metadata": {},
     "output_type": "execute_result"
    }
   ],
   "source": [
    "np.sum(L_jc_t<Ljc0_val)"
   ]
  },
  {
   "cell_type": "code",
   "execution_count": 11,
   "id": "de064e4d",
   "metadata": {},
   "outputs": [],
   "source": [
    "IF = simpson((sol_free.y.T[:, 1] + sol_free.y.T[:, 4])**2, x=sol_free.t)\n",
    "IO = simpson((sol_opt.y.T[:, 1] + sol_opt.y.T[:, 4])**2, x=sol_opt.x)\n",
    "\n",
    "data = {}\n",
    "data[\"Sol_opt\"] = sol_opt\n",
    "data[\"Sol_free\"] = sol_free\n",
    "data[\"Nj0\"] = Nj0\n",
    "data[\"Nc0\"] = 1-Nj0\n",
    "data[\"Betac\"] = betac_val\n",
    "data[\"Betaj\"] = betaj_val\n",
    "data[\"gamma\"] = gamma_val\n",
    "data[\"ucj0\"] = Lcj0_val\n",
    "data[\"ujc0\"] = Ljc0_val\n",
    "data[\"Ic0\"] = X0[1]\n",
    "data[\"Ij0\"] = X0[4]\n",
    "data[\"ai\"] = ai\n",
    "data[\"au\"] = au\n",
    "data[\"u_jc_t_n\"] = L_jc_t_n\n",
    "data[\"u_cj_t_n\"] = L_cj_t_n\n",
    "data[\"u_jc_t\"] = L_jc_t\n",
    "data[\"u_cj_t\"] = L_cj_t\n",
    "data[\"delta_I\"] = IF-IO\n",
    "with open('Solutions/Model0.pkl', 'wb') as f:\n",
    "    pickle.dump(data, f)"
   ]
  },
  {
   "cell_type": "code",
   "execution_count": null,
   "id": "0dd931a4-5bea-4d59-9bd2-8cd18a6f6e76",
   "metadata": {},
   "outputs": [],
   "source": []
  }
 ],
 "metadata": {
  "kernelspec": {
   "display_name": "Python [conda env:base] *",
   "language": "python",
   "name": "conda-base-py"
  },
  "language_info": {
   "codemirror_mode": {
    "name": "ipython",
    "version": 3
   },
   "file_extension": ".py",
   "mimetype": "text/x-python",
   "name": "python",
   "nbconvert_exporter": "python",
   "pygments_lexer": "ipython3",
   "version": "3.13.5"
  }
 },
 "nbformat": 4,
 "nbformat_minor": 5
}
